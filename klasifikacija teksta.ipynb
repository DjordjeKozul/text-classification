{
 "cells": [
  {
   "cell_type": "code",
   "execution_count": 1,
   "id": "a88e5d51-1924-49aa-a539-e32d6bc2b39f",
   "metadata": {},
   "outputs": [
    {
     "name": "stdout",
     "output_type": "stream",
     "text": [
      "Pravi program\n"
     ]
    },
    {
     "name": "stderr",
     "output_type": "stream",
     "text": [
      "C:\\Users\\Djole\\anaconda3\\Lib\\site-packages\\keras\\src\\layers\\core\\embedding.py:90: UserWarning: Argument `input_length` is deprecated. Just remove it.\n",
      "  warnings.warn(\n"
     ]
    },
    {
     "data": {
      "text/html": [
       "<pre style=\"white-space:pre;overflow-x:auto;line-height:normal;font-family:Menlo,'DejaVu Sans Mono',consolas,'Courier New',monospace\"><span style=\"font-weight: bold\">Model: \"sequential\"</span>\n",
       "</pre>\n"
      ],
      "text/plain": [
       "\u001b[1mModel: \"sequential\"\u001b[0m\n"
      ]
     },
     "metadata": {},
     "output_type": "display_data"
    },
    {
     "data": {
      "text/html": [
       "<pre style=\"white-space:pre;overflow-x:auto;line-height:normal;font-family:Menlo,'DejaVu Sans Mono',consolas,'Courier New',monospace\">┏━━━━━━━━━━━━━━━━━━━━━━━━━━━━━━━━━━━━━━┳━━━━━━━━━━━━━━━━━━━━━━━━━━━━━┳━━━━━━━━━━━━━━━━━┓\n",
       "┃<span style=\"font-weight: bold\"> Layer (type)                         </span>┃<span style=\"font-weight: bold\"> Output Shape                </span>┃<span style=\"font-weight: bold\">         Param # </span>┃\n",
       "┡━━━━━━━━━━━━━━━━━━━━━━━━━━━━━━━━━━━━━━╇━━━━━━━━━━━━━━━━━━━━━━━━━━━━━╇━━━━━━━━━━━━━━━━━┩\n",
       "│ embedding (<span style=\"color: #0087ff; text-decoration-color: #0087ff\">Embedding</span>)                │ ?                           │      <span style=\"color: #00af00; text-decoration-color: #00af00\">10,564,000</span> │\n",
       "├──────────────────────────────────────┼─────────────────────────────┼─────────────────┤\n",
       "│ lstm (<span style=\"color: #0087ff; text-decoration-color: #0087ff\">LSTM</span>)                          │ ?                           │     <span style=\"color: #00af00; text-decoration-color: #00af00\">0</span> (unbuilt) │\n",
       "├──────────────────────────────────────┼─────────────────────────────┼─────────────────┤\n",
       "│ dropout (<span style=\"color: #0087ff; text-decoration-color: #0087ff\">Dropout</span>)                    │ ?                           │               <span style=\"color: #00af00; text-decoration-color: #00af00\">0</span> │\n",
       "├──────────────────────────────────────┼─────────────────────────────┼─────────────────┤\n",
       "│ dense (<span style=\"color: #0087ff; text-decoration-color: #0087ff\">Dense</span>)                        │ ?                           │     <span style=\"color: #00af00; text-decoration-color: #00af00\">0</span> (unbuilt) │\n",
       "└──────────────────────────────────────┴─────────────────────────────┴─────────────────┘\n",
       "</pre>\n"
      ],
      "text/plain": [
       "┏━━━━━━━━━━━━━━━━━━━━━━━━━━━━━━━━━━━━━━┳━━━━━━━━━━━━━━━━━━━━━━━━━━━━━┳━━━━━━━━━━━━━━━━━┓\n",
       "┃\u001b[1m \u001b[0m\u001b[1mLayer (type)                        \u001b[0m\u001b[1m \u001b[0m┃\u001b[1m \u001b[0m\u001b[1mOutput Shape               \u001b[0m\u001b[1m \u001b[0m┃\u001b[1m \u001b[0m\u001b[1m        Param #\u001b[0m\u001b[1m \u001b[0m┃\n",
       "┡━━━━━━━━━━━━━━━━━━━━━━━━━━━━━━━━━━━━━━╇━━━━━━━━━━━━━━━━━━━━━━━━━━━━━╇━━━━━━━━━━━━━━━━━┩\n",
       "│ embedding (\u001b[38;5;33mEmbedding\u001b[0m)                │ ?                           │      \u001b[38;5;34m10,564,000\u001b[0m │\n",
       "├──────────────────────────────────────┼─────────────────────────────┼─────────────────┤\n",
       "│ lstm (\u001b[38;5;33mLSTM\u001b[0m)                          │ ?                           │     \u001b[38;5;34m0\u001b[0m (unbuilt) │\n",
       "├──────────────────────────────────────┼─────────────────────────────┼─────────────────┤\n",
       "│ dropout (\u001b[38;5;33mDropout\u001b[0m)                    │ ?                           │               \u001b[38;5;34m0\u001b[0m │\n",
       "├──────────────────────────────────────┼─────────────────────────────┼─────────────────┤\n",
       "│ dense (\u001b[38;5;33mDense\u001b[0m)                        │ ?                           │     \u001b[38;5;34m0\u001b[0m (unbuilt) │\n",
       "└──────────────────────────────────────┴─────────────────────────────┴─────────────────┘\n"
      ]
     },
     "metadata": {},
     "output_type": "display_data"
    },
    {
     "data": {
      "text/html": [
       "<pre style=\"white-space:pre;overflow-x:auto;line-height:normal;font-family:Menlo,'DejaVu Sans Mono',consolas,'Courier New',monospace\"><span style=\"font-weight: bold\"> Total params: </span><span style=\"color: #00af00; text-decoration-color: #00af00\">10,564,000</span> (40.30 MB)\n",
       "</pre>\n"
      ],
      "text/plain": [
       "\u001b[1m Total params: \u001b[0m\u001b[38;5;34m10,564,000\u001b[0m (40.30 MB)\n"
      ]
     },
     "metadata": {},
     "output_type": "display_data"
    },
    {
     "data": {
      "text/html": [
       "<pre style=\"white-space:pre;overflow-x:auto;line-height:normal;font-family:Menlo,'DejaVu Sans Mono',consolas,'Courier New',monospace\"><span style=\"font-weight: bold\"> Trainable params: </span><span style=\"color: #00af00; text-decoration-color: #00af00\">0</span> (0.00 B)\n",
       "</pre>\n"
      ],
      "text/plain": [
       "\u001b[1m Trainable params: \u001b[0m\u001b[38;5;34m0\u001b[0m (0.00 B)\n"
      ]
     },
     "metadata": {},
     "output_type": "display_data"
    },
    {
     "data": {
      "text/html": [
       "<pre style=\"white-space:pre;overflow-x:auto;line-height:normal;font-family:Menlo,'DejaVu Sans Mono',consolas,'Courier New',monospace\"><span style=\"font-weight: bold\"> Non-trainable params: </span><span style=\"color: #00af00; text-decoration-color: #00af00\">10,564,000</span> (40.30 MB)\n",
       "</pre>\n"
      ],
      "text/plain": [
       "\u001b[1m Non-trainable params: \u001b[0m\u001b[38;5;34m10,564,000\u001b[0m (40.30 MB)\n"
      ]
     },
     "metadata": {},
     "output_type": "display_data"
    },
    {
     "name": "stdout",
     "output_type": "stream",
     "text": [
      "None\n",
      "Epoch 1/150\n",
      "875/875 - 102s - 116ms/step - accuracy: 0.4949 - loss: 0.6939 - val_accuracy: 0.4936 - val_loss: 0.6925\n",
      "Epoch 2/150\n",
      "875/875 - 97s - 111ms/step - accuracy: 0.5003 - loss: 0.6932 - val_accuracy: 0.5166 - val_loss: 0.6923\n",
      "Epoch 3/150\n",
      "875/875 - 100s - 114ms/step - accuracy: 0.5044 - loss: 0.6927 - val_accuracy: 0.5166 - val_loss: 0.6922\n",
      "Epoch 4/150\n",
      "875/875 - 100s - 114ms/step - accuracy: 0.5060 - loss: 0.6924 - val_accuracy: 0.5176 - val_loss: 0.6919\n",
      "Epoch 5/150\n",
      "875/875 - 99s - 113ms/step - accuracy: 0.5090 - loss: 0.6919 - val_accuracy: 0.5200 - val_loss: 0.6915\n",
      "Epoch 6/150\n",
      "875/875 - 97s - 111ms/step - accuracy: 0.5104 - loss: 0.6906 - val_accuracy: 0.5236 - val_loss: 0.6906\n",
      "Epoch 7/150\n",
      "875/875 - 99s - 113ms/step - accuracy: 0.5162 - loss: 0.6879 - val_accuracy: 0.5247 - val_loss: 0.6997\n",
      "Epoch 8/150\n",
      "875/875 - 99s - 113ms/step - accuracy: 0.5222 - loss: 0.6868 - val_accuracy: 0.5349 - val_loss: 0.6846\n",
      "Epoch 9/150\n",
      "875/875 - 98s - 112ms/step - accuracy: 0.5252 - loss: 0.6844 - val_accuracy: 0.5371 - val_loss: 0.6838\n",
      "Epoch 10/150\n",
      "875/875 - 99s - 113ms/step - accuracy: 0.5223 - loss: 0.6863 - val_accuracy: 0.5291 - val_loss: 0.6878\n",
      "Epoch 11/150\n",
      "875/875 - 98s - 113ms/step - accuracy: 0.5253 - loss: 0.6845 - val_accuracy: 0.5300 - val_loss: 0.6869\n",
      "Epoch 12/150\n",
      "875/875 - 99s - 113ms/step - accuracy: 0.5267 - loss: 0.6835 - val_accuracy: 0.5400 - val_loss: 0.6858\n",
      "Epoch 13/150\n",
      "875/875 - 99s - 113ms/step - accuracy: 0.5245 - loss: 0.6873 - val_accuracy: 0.5400 - val_loss: 0.6850\n",
      "Epoch 14/150\n",
      "875/875 - 98s - 112ms/step - accuracy: 0.5272 - loss: 0.6835 - val_accuracy: 0.5383 - val_loss: 0.6830\n",
      "Epoch 15/150\n",
      "875/875 - 96s - 110ms/step - accuracy: 0.5279 - loss: 0.6836 - val_accuracy: 0.5370 - val_loss: 0.6851\n",
      "Epoch 16/150\n",
      "875/875 - 96s - 109ms/step - accuracy: 0.5279 - loss: 0.6837 - val_accuracy: 0.5363 - val_loss: 0.6850\n",
      "Epoch 17/150\n",
      "875/875 - 96s - 110ms/step - accuracy: 0.5285 - loss: 0.6835 - val_accuracy: 0.5390 - val_loss: 0.6841\n",
      "Epoch 18/150\n",
      "875/875 - 99s - 114ms/step - accuracy: 0.5271 - loss: 0.6831 - val_accuracy: 0.5400 - val_loss: 0.6836\n",
      "Epoch 19/150\n",
      "875/875 - 98s - 112ms/step - accuracy: 0.5299 - loss: 0.6820 - val_accuracy: 0.5396 - val_loss: 0.6827\n",
      "Epoch 20/150\n",
      "875/875 - 101s - 115ms/step - accuracy: 0.5306 - loss: 0.6816 - val_accuracy: 0.5470 - val_loss: 0.6832\n",
      "Epoch 21/150\n",
      "875/875 - 98s - 112ms/step - accuracy: 0.5284 - loss: 0.6823 - val_accuracy: 0.5400 - val_loss: 0.6897\n",
      "Epoch 22/150\n",
      "875/875 - 100s - 114ms/step - accuracy: 0.5310 - loss: 0.6821 - val_accuracy: 0.5463 - val_loss: 0.6820\n",
      "Epoch 23/150\n",
      "875/875 - 99s - 113ms/step - accuracy: 0.5276 - loss: 0.6875 - val_accuracy: 0.5141 - val_loss: 0.6935\n",
      "Epoch 24/150\n",
      "875/875 - 97s - 111ms/step - accuracy: 0.5291 - loss: 0.6853 - val_accuracy: 0.5459 - val_loss: 0.6828\n",
      "Epoch 25/150\n",
      "875/875 - 99s - 113ms/step - accuracy: 0.5340 - loss: 0.6811 - val_accuracy: 0.5480 - val_loss: 0.6814\n",
      "Epoch 26/150\n",
      "875/875 - 97s - 111ms/step - accuracy: 0.5363 - loss: 0.6805 - val_accuracy: 0.5490 - val_loss: 0.6816\n",
      "Epoch 27/150\n",
      "875/875 - 98s - 112ms/step - accuracy: 0.5371 - loss: 0.6798 - val_accuracy: 0.5421 - val_loss: 0.6841\n",
      "Epoch 28/150\n",
      "875/875 - 100s - 115ms/step - accuracy: 0.5546 - loss: 0.6788 - val_accuracy: 0.6901 - val_loss: 0.6769\n",
      "Epoch 29/150\n",
      "875/875 - 98s - 111ms/step - accuracy: 0.6892 - loss: 0.6183 - val_accuracy: 0.7130 - val_loss: 0.5919\n",
      "Epoch 30/150\n",
      "875/875 - 101s - 115ms/step - accuracy: 0.7308 - loss: 0.5752 - val_accuracy: 0.7400 - val_loss: 0.5658\n",
      "Epoch 31/150\n",
      "875/875 - 97s - 111ms/step - accuracy: 0.7474 - loss: 0.5573 - val_accuracy: 0.7506 - val_loss: 0.5504\n",
      "Epoch 32/150\n",
      "875/875 - 96s - 110ms/step - accuracy: 0.7561 - loss: 0.5438 - val_accuracy: 0.7546 - val_loss: 0.5460\n",
      "Epoch 33/150\n",
      "875/875 - 97s - 110ms/step - accuracy: 0.7624 - loss: 0.5333 - val_accuracy: 0.7667 - val_loss: 0.5293\n",
      "Epoch 34/150\n",
      "875/875 - 97s - 110ms/step - accuracy: 0.7718 - loss: 0.5200 - val_accuracy: 0.7764 - val_loss: 0.5125\n",
      "Epoch 35/150\n",
      "875/875 - 98s - 112ms/step - accuracy: 0.7755 - loss: 0.5074 - val_accuracy: 0.7753 - val_loss: 0.5017\n",
      "Epoch 36/150\n",
      "875/875 - 100s - 114ms/step - accuracy: 0.7805 - loss: 0.4900 - val_accuracy: 0.7811 - val_loss: 0.4846\n",
      "Epoch 37/150\n",
      "875/875 - 100s - 115ms/step - accuracy: 0.7875 - loss: 0.4736 - val_accuracy: 0.7830 - val_loss: 0.4700\n",
      "Epoch 38/150\n",
      "875/875 - 96s - 110ms/step - accuracy: 0.7921 - loss: 0.4626 - val_accuracy: 0.7817 - val_loss: 0.4651\n",
      "Epoch 39/150\n",
      "875/875 - 97s - 110ms/step - accuracy: 0.7924 - loss: 0.4578 - val_accuracy: 0.7837 - val_loss: 0.4611\n",
      "Epoch 40/150\n",
      "875/875 - 100s - 114ms/step - accuracy: 0.7990 - loss: 0.4511 - val_accuracy: 0.7933 - val_loss: 0.4546\n",
      "Epoch 41/150\n",
      "875/875 - 101s - 115ms/step - accuracy: 0.8003 - loss: 0.4471 - val_accuracy: 0.7896 - val_loss: 0.4515\n",
      "Epoch 42/150\n",
      "875/875 - 97s - 111ms/step - accuracy: 0.8035 - loss: 0.4438 - val_accuracy: 0.7963 - val_loss: 0.4452\n",
      "Epoch 43/150\n",
      "875/875 - 97s - 111ms/step - accuracy: 0.8043 - loss: 0.4398 - val_accuracy: 0.7980 - val_loss: 0.4417\n",
      "Epoch 44/150\n",
      "875/875 - 97s - 111ms/step - accuracy: 0.8064 - loss: 0.4356 - val_accuracy: 0.7953 - val_loss: 0.4408\n",
      "Epoch 45/150\n",
      "875/875 - 97s - 111ms/step - accuracy: 0.8073 - loss: 0.4330 - val_accuracy: 0.7971 - val_loss: 0.4363\n",
      "Epoch 46/150\n",
      "875/875 - 97s - 111ms/step - accuracy: 0.8105 - loss: 0.4291 - val_accuracy: 0.8021 - val_loss: 0.4421\n",
      "Epoch 47/150\n",
      "875/875 - 98s - 112ms/step - accuracy: 0.8114 - loss: 0.4270 - val_accuracy: 0.8033 - val_loss: 0.4322\n",
      "Epoch 48/150\n",
      "875/875 - 98s - 112ms/step - accuracy: 0.8133 - loss: 0.4263 - val_accuracy: 0.8066 - val_loss: 0.4329\n",
      "Epoch 49/150\n",
      "875/875 - 98s - 112ms/step - accuracy: 0.8118 - loss: 0.4230 - val_accuracy: 0.8046 - val_loss: 0.4272\n",
      "Epoch 50/150\n",
      "875/875 - 98s - 112ms/step - accuracy: 0.8136 - loss: 0.4192 - val_accuracy: 0.8086 - val_loss: 0.4261\n",
      "Epoch 51/150\n",
      "875/875 - 98s - 112ms/step - accuracy: 0.8138 - loss: 0.4198 - val_accuracy: 0.8099 - val_loss: 0.4212\n",
      "Epoch 52/150\n",
      "875/875 - 99s - 113ms/step - accuracy: 0.8167 - loss: 0.4152 - val_accuracy: 0.8121 - val_loss: 0.4203\n",
      "Epoch 53/150\n",
      "875/875 - 98s - 112ms/step - accuracy: 0.8170 - loss: 0.4155 - val_accuracy: 0.8139 - val_loss: 0.4245\n",
      "Epoch 54/150\n",
      "875/875 - 97s - 111ms/step - accuracy: 0.8201 - loss: 0.4116 - val_accuracy: 0.8124 - val_loss: 0.4179\n",
      "Epoch 55/150\n",
      "875/875 - 104s - 119ms/step - accuracy: 0.8208 - loss: 0.4097 - val_accuracy: 0.8144 - val_loss: 0.4190\n",
      "Epoch 56/150\n",
      "875/875 - 102s - 116ms/step - accuracy: 0.8192 - loss: 0.4082 - val_accuracy: 0.8156 - val_loss: 0.4143\n",
      "Epoch 57/150\n",
      "875/875 - 100s - 115ms/step - accuracy: 0.8229 - loss: 0.4053 - val_accuracy: 0.8170 - val_loss: 0.4130\n",
      "Epoch 58/150\n",
      "875/875 - 100s - 114ms/step - accuracy: 0.8213 - loss: 0.4053 - val_accuracy: 0.8176 - val_loss: 0.4099\n",
      "Epoch 59/150\n",
      "875/875 - 102s - 117ms/step - accuracy: 0.8220 - loss: 0.4038 - val_accuracy: 0.8184 - val_loss: 0.4141\n",
      "Epoch 60/150\n",
      "875/875 - 102s - 117ms/step - accuracy: 0.8227 - loss: 0.3995 - val_accuracy: 0.8180 - val_loss: 0.4099\n",
      "Epoch 61/150\n",
      "875/875 - 103s - 117ms/step - accuracy: 0.8262 - loss: 0.3976 - val_accuracy: 0.8210 - val_loss: 0.4056\n",
      "Epoch 62/150\n",
      "875/875 - 102s - 116ms/step - accuracy: 0.8268 - loss: 0.3960 - val_accuracy: 0.8199 - val_loss: 0.4068\n",
      "Epoch 63/150\n",
      "875/875 - 102s - 117ms/step - accuracy: 0.8273 - loss: 0.3949 - val_accuracy: 0.8230 - val_loss: 0.4003\n",
      "Epoch 64/150\n",
      "875/875 - 100s - 115ms/step - accuracy: 0.8256 - loss: 0.3940 - val_accuracy: 0.8183 - val_loss: 0.4094\n",
      "Epoch 65/150\n",
      "875/875 - 103s - 117ms/step - accuracy: 0.8277 - loss: 0.3897 - val_accuracy: 0.8276 - val_loss: 0.4009\n",
      "Epoch 66/150\n",
      "875/875 - 102s - 116ms/step - accuracy: 0.8317 - loss: 0.3889 - val_accuracy: 0.8269 - val_loss: 0.3982\n",
      "Epoch 67/150\n",
      "875/875 - 100s - 115ms/step - accuracy: 0.8313 - loss: 0.3867 - val_accuracy: 0.8201 - val_loss: 0.4057\n",
      "Epoch 68/150\n",
      "875/875 - 101s - 116ms/step - accuracy: 0.8310 - loss: 0.3868 - val_accuracy: 0.8284 - val_loss: 0.3924\n",
      "Epoch 69/150\n",
      "875/875 - 100s - 115ms/step - accuracy: 0.8315 - loss: 0.3844 - val_accuracy: 0.8300 - val_loss: 0.3902\n",
      "Epoch 70/150\n",
      "875/875 - 100s - 115ms/step - accuracy: 0.8338 - loss: 0.3825 - val_accuracy: 0.8309 - val_loss: 0.3909\n",
      "Epoch 71/150\n",
      "875/875 - 101s - 115ms/step - accuracy: 0.8342 - loss: 0.3812 - val_accuracy: 0.8257 - val_loss: 0.3935\n",
      "Epoch 72/150\n",
      "875/875 - 102s - 116ms/step - accuracy: 0.8340 - loss: 0.3792 - val_accuracy: 0.8197 - val_loss: 0.4046\n",
      "Epoch 73/150\n",
      "875/875 - 101s - 115ms/step - accuracy: 0.8356 - loss: 0.3777 - val_accuracy: 0.8320 - val_loss: 0.3857\n",
      "Epoch 74/150\n",
      "875/875 - 102s - 117ms/step - accuracy: 0.8357 - loss: 0.3752 - val_accuracy: 0.8321 - val_loss: 0.3842\n",
      "Epoch 75/150\n",
      "875/875 - 103s - 117ms/step - accuracy: 0.8367 - loss: 0.3741 - val_accuracy: 0.8299 - val_loss: 0.3924\n",
      "Epoch 76/150\n",
      "875/875 - 103s - 118ms/step - accuracy: 0.8378 - loss: 0.3721 - val_accuracy: 0.8309 - val_loss: 0.3866\n",
      "Epoch 77/150\n",
      "875/875 - 100s - 115ms/step - accuracy: 0.8396 - loss: 0.3703 - val_accuracy: 0.8389 - val_loss: 0.3786\n",
      "Epoch 78/150\n",
      "875/875 - 101s - 115ms/step - accuracy: 0.8391 - loss: 0.3679 - val_accuracy: 0.8391 - val_loss: 0.3759\n",
      "Epoch 79/150\n",
      "875/875 - 102s - 116ms/step - accuracy: 0.8413 - loss: 0.3676 - val_accuracy: 0.8379 - val_loss: 0.3768\n",
      "Epoch 80/150\n",
      "875/875 - 103s - 117ms/step - accuracy: 0.8419 - loss: 0.3639 - val_accuracy: 0.8391 - val_loss: 0.3747\n",
      "Epoch 81/150\n",
      "875/875 - 102s - 116ms/step - accuracy: 0.8416 - loss: 0.3639 - val_accuracy: 0.8404 - val_loss: 0.3711\n",
      "Epoch 82/150\n",
      "875/875 - 101s - 115ms/step - accuracy: 0.8428 - loss: 0.3631 - val_accuracy: 0.8240 - val_loss: 0.4001\n",
      "Epoch 83/150\n",
      "875/875 - 101s - 115ms/step - accuracy: 0.8450 - loss: 0.3588 - val_accuracy: 0.8373 - val_loss: 0.3725\n",
      "Epoch 84/150\n",
      "875/875 - 100s - 115ms/step - accuracy: 0.8454 - loss: 0.3591 - val_accuracy: 0.8437 - val_loss: 0.3703\n",
      "Epoch 85/150\n",
      "875/875 - 104s - 119ms/step - accuracy: 0.8458 - loss: 0.3566 - val_accuracy: 0.8363 - val_loss: 0.3803\n",
      "Epoch 86/150\n",
      "875/875 - 101s - 116ms/step - accuracy: 0.8447 - loss: 0.3573 - val_accuracy: 0.8270 - val_loss: 0.3868\n",
      "Epoch 87/150\n",
      "875/875 - 100s - 115ms/step - accuracy: 0.8468 - loss: 0.3549 - val_accuracy: 0.8417 - val_loss: 0.3639\n",
      "Epoch 88/150\n",
      "875/875 - 101s - 115ms/step - accuracy: 0.8453 - loss: 0.3562 - val_accuracy: 0.8433 - val_loss: 0.3642\n",
      "Epoch 89/150\n",
      "875/875 - 101s - 116ms/step - accuracy: 0.8489 - loss: 0.3506 - val_accuracy: 0.8381 - val_loss: 0.3749\n",
      "Epoch 90/150\n",
      "875/875 - 100s - 115ms/step - accuracy: 0.8487 - loss: 0.3505 - val_accuracy: 0.8346 - val_loss: 0.3708\n",
      "Epoch 91/150\n",
      "875/875 - 106s - 122ms/step - accuracy: 0.8490 - loss: 0.3493 - val_accuracy: 0.8357 - val_loss: 0.3795\n",
      "Epoch 92/150\n",
      "875/875 - 104s - 119ms/step - accuracy: 0.8480 - loss: 0.3486 - val_accuracy: 0.8493 - val_loss: 0.3604\n",
      "Epoch 93/150\n",
      "875/875 - 104s - 118ms/step - accuracy: 0.8500 - loss: 0.3461 - val_accuracy: 0.8463 - val_loss: 0.3602\n",
      "Epoch 94/150\n",
      "875/875 - 104s - 119ms/step - accuracy: 0.8526 - loss: 0.3429 - val_accuracy: 0.8481 - val_loss: 0.3576\n",
      "Epoch 95/150\n",
      "875/875 - 102s - 117ms/step - accuracy: 0.8532 - loss: 0.3417 - val_accuracy: 0.8503 - val_loss: 0.3592\n",
      "Epoch 96/150\n",
      "875/875 - 104s - 119ms/step - accuracy: 0.8540 - loss: 0.3416 - val_accuracy: 0.8404 - val_loss: 0.3681\n",
      "Epoch 97/150\n",
      "875/875 - 114s - 130ms/step - accuracy: 0.8546 - loss: 0.3399 - val_accuracy: 0.8444 - val_loss: 0.3580\n",
      "Epoch 98/150\n",
      "875/875 - 114s - 131ms/step - accuracy: 0.8549 - loss: 0.3392 - val_accuracy: 0.8449 - val_loss: 0.3620\n",
      "Epoch 99/150\n",
      "875/875 - 114s - 130ms/step - accuracy: 0.8549 - loss: 0.3400 - val_accuracy: 0.8431 - val_loss: 0.3595\n",
      "Epoch 100/150\n",
      "875/875 - 115s - 131ms/step - accuracy: 0.8549 - loss: 0.3376 - val_accuracy: 0.8524 - val_loss: 0.3482\n",
      "Epoch 101/150\n",
      "875/875 - 114s - 130ms/step - accuracy: 0.8566 - loss: 0.3362 - val_accuracy: 0.8476 - val_loss: 0.3527\n",
      "Epoch 102/150\n",
      "875/875 - 114s - 131ms/step - accuracy: 0.8569 - loss: 0.3347 - val_accuracy: 0.8540 - val_loss: 0.3461\n",
      "Epoch 103/150\n",
      "875/875 - 115s - 131ms/step - accuracy: 0.8583 - loss: 0.3322 - val_accuracy: 0.8497 - val_loss: 0.3545\n",
      "Epoch 104/150\n",
      "875/875 - 115s - 131ms/step - accuracy: 0.8579 - loss: 0.3319 - val_accuracy: 0.8434 - val_loss: 0.3654\n",
      "Epoch 105/150\n",
      "875/875 - 116s - 132ms/step - accuracy: 0.8585 - loss: 0.3327 - val_accuracy: 0.8504 - val_loss: 0.3491\n",
      "Epoch 106/150\n",
      "875/875 - 115s - 132ms/step - accuracy: 0.8593 - loss: 0.3303 - val_accuracy: 0.8496 - val_loss: 0.3459\n",
      "Epoch 107/150\n",
      "875/875 - 116s - 132ms/step - accuracy: 0.8594 - loss: 0.3284 - val_accuracy: 0.8539 - val_loss: 0.3424\n",
      "Epoch 108/150\n",
      "875/875 - 100s - 114ms/step - accuracy: 0.8615 - loss: 0.3253 - val_accuracy: 0.8549 - val_loss: 0.3393\n",
      "Epoch 109/150\n",
      "875/875 - 99s - 113ms/step - accuracy: 0.8597 - loss: 0.3260 - val_accuracy: 0.8580 - val_loss: 0.3376\n",
      "Epoch 110/150\n",
      "875/875 - 101s - 115ms/step - accuracy: 0.8625 - loss: 0.3251 - val_accuracy: 0.8569 - val_loss: 0.3358\n",
      "Epoch 111/150\n",
      "875/875 - 100s - 114ms/step - accuracy: 0.8622 - loss: 0.3226 - val_accuracy: 0.8559 - val_loss: 0.3679\n",
      "Epoch 112/150\n",
      "875/875 - 99s - 113ms/step - accuracy: 0.8636 - loss: 0.3224 - val_accuracy: 0.8369 - val_loss: 0.3815\n",
      "Epoch 113/150\n",
      "875/875 - 100s - 114ms/step - accuracy: 0.8625 - loss: 0.3224 - val_accuracy: 0.8570 - val_loss: 0.3346\n",
      "Epoch 114/150\n",
      "875/875 - 101s - 116ms/step - accuracy: 0.8652 - loss: 0.3206 - val_accuracy: 0.8573 - val_loss: 0.3383\n",
      "Epoch 115/150\n",
      "875/875 - 100s - 114ms/step - accuracy: 0.8632 - loss: 0.3207 - val_accuracy: 0.8591 - val_loss: 0.3309\n",
      "Epoch 116/150\n",
      "875/875 - 97s - 111ms/step - accuracy: 0.8668 - loss: 0.3162 - val_accuracy: 0.8610 - val_loss: 0.3312\n",
      "Epoch 117/150\n",
      "875/875 - 100s - 114ms/step - accuracy: 0.8664 - loss: 0.3158 - val_accuracy: 0.8580 - val_loss: 0.3348\n",
      "Epoch 118/150\n",
      "875/875 - 100s - 114ms/step - accuracy: 0.8649 - loss: 0.3171 - val_accuracy: 0.8589 - val_loss: 0.3434\n",
      "Epoch 119/150\n",
      "875/875 - 100s - 114ms/step - accuracy: 0.8663 - loss: 0.3127 - val_accuracy: 0.8577 - val_loss: 0.3432\n",
      "Epoch 120/150\n",
      "875/875 - 98s - 112ms/step - accuracy: 0.8659 - loss: 0.3148 - val_accuracy: 0.8606 - val_loss: 0.3396\n",
      "Epoch 121/150\n",
      "875/875 - 99s - 113ms/step - accuracy: 0.8680 - loss: 0.3130 - val_accuracy: 0.8617 - val_loss: 0.3290\n",
      "Epoch 122/150\n",
      "875/875 - 101s - 116ms/step - accuracy: 0.8676 - loss: 0.3130 - val_accuracy: 0.8543 - val_loss: 0.3397\n",
      "Epoch 123/150\n",
      "875/875 - 101s - 116ms/step - accuracy: 0.8691 - loss: 0.3110 - val_accuracy: 0.8566 - val_loss: 0.3335\n",
      "Epoch 124/150\n",
      "875/875 - 101s - 115ms/step - accuracy: 0.8692 - loss: 0.3114 - val_accuracy: 0.8581 - val_loss: 0.3342\n",
      "Epoch 125/150\n",
      "875/875 - 101s - 115ms/step - accuracy: 0.8697 - loss: 0.3099 - val_accuracy: 0.8620 - val_loss: 0.3252\n",
      "Epoch 126/150\n",
      "875/875 - 100s - 115ms/step - accuracy: 0.8703 - loss: 0.3097 - val_accuracy: 0.8623 - val_loss: 0.3242\n",
      "Epoch 127/150\n",
      "875/875 - 102s - 117ms/step - accuracy: 0.8712 - loss: 0.3056 - val_accuracy: 0.8474 - val_loss: 0.3629\n",
      "Epoch 128/150\n",
      "875/875 - 102s - 116ms/step - accuracy: 0.8710 - loss: 0.3086 - val_accuracy: 0.8620 - val_loss: 0.3219\n",
      "Epoch 129/150\n",
      "875/875 - 102s - 117ms/step - accuracy: 0.8726 - loss: 0.3042 - val_accuracy: 0.8570 - val_loss: 0.3412\n",
      "Epoch 130/150\n",
      "875/875 - 101s - 116ms/step - accuracy: 0.8710 - loss: 0.3062 - val_accuracy: 0.8604 - val_loss: 0.3257\n",
      "Epoch 131/150\n",
      "875/875 - 100s - 114ms/step - accuracy: 0.8740 - loss: 0.3030 - val_accuracy: 0.8613 - val_loss: 0.3266\n",
      "Epoch 132/150\n",
      "875/875 - 103s - 118ms/step - accuracy: 0.8719 - loss: 0.3023 - val_accuracy: 0.8636 - val_loss: 0.3237\n",
      "Epoch 133/150\n",
      "875/875 - 98s - 112ms/step - accuracy: 0.8719 - loss: 0.3061 - val_accuracy: 0.8630 - val_loss: 0.3304\n",
      "Epoch 134/150\n",
      "875/875 - 99s - 113ms/step - accuracy: 0.8740 - loss: 0.3014 - val_accuracy: 0.8577 - val_loss: 0.3333\n",
      "Epoch 135/150\n",
      "875/875 - 98s - 112ms/step - accuracy: 0.8726 - loss: 0.3017 - val_accuracy: 0.8623 - val_loss: 0.3306\n",
      "Epoch 136/150\n",
      "875/875 - 98s - 112ms/step - accuracy: 0.8732 - loss: 0.3030 - val_accuracy: 0.8527 - val_loss: 0.3488\n",
      "Epoch 137/150\n",
      "875/875 - 98s - 112ms/step - accuracy: 0.8749 - loss: 0.2985 - val_accuracy: 0.8649 - val_loss: 0.3252\n",
      "Epoch 138/150\n",
      "875/875 - 100s - 114ms/step - accuracy: 0.8763 - loss: 0.2977 - val_accuracy: 0.8641 - val_loss: 0.3213\n",
      "Epoch 139/150\n",
      "875/875 - 98s - 112ms/step - accuracy: 0.8748 - loss: 0.2997 - val_accuracy: 0.8621 - val_loss: 0.3229\n",
      "Epoch 140/150\n",
      "875/875 - 98s - 112ms/step - accuracy: 0.8752 - loss: 0.2987 - val_accuracy: 0.8650 - val_loss: 0.3199\n",
      "Epoch 141/150\n",
      "875/875 - 98s - 112ms/step - accuracy: 0.8760 - loss: 0.2968 - val_accuracy: 0.8577 - val_loss: 0.3277\n",
      "Epoch 142/150\n",
      "875/875 - 99s - 113ms/step - accuracy: 0.8761 - loss: 0.2976 - val_accuracy: 0.8317 - val_loss: 0.3768\n",
      "Epoch 143/150\n",
      "875/875 - 98s - 112ms/step - accuracy: 0.8760 - loss: 0.2965 - val_accuracy: 0.8523 - val_loss: 0.3520\n",
      "Epoch 144/150\n",
      "875/875 - 99s - 113ms/step - accuracy: 0.8783 - loss: 0.2936 - val_accuracy: 0.8659 - val_loss: 0.3219\n",
      "Epoch 145/150\n",
      "875/875 - 99s - 113ms/step - accuracy: 0.8766 - loss: 0.2946 - val_accuracy: 0.8671 - val_loss: 0.3144\n",
      "Epoch 146/150\n",
      "875/875 - 99s - 113ms/step - accuracy: 0.8789 - loss: 0.2946 - val_accuracy: 0.8570 - val_loss: 0.3321\n",
      "Epoch 147/150\n",
      "875/875 - 99s - 113ms/step - accuracy: 0.8783 - loss: 0.2911 - val_accuracy: 0.8653 - val_loss: 0.3223\n",
      "Epoch 148/150\n",
      "875/875 - 98s - 113ms/step - accuracy: 0.8779 - loss: 0.2920 - val_accuracy: 0.8506 - val_loss: 0.3560\n",
      "Epoch 149/150\n",
      "875/875 - 99s - 113ms/step - accuracy: 0.8800 - loss: 0.2911 - val_accuracy: 0.8707 - val_loss: 0.3155\n",
      "Epoch 150/150\n",
      "875/875 - 98s - 112ms/step - accuracy: 0.8806 - loss: 0.2885 - val_accuracy: 0.8696 - val_loss: 0.3121\n"
     ]
    },
    {
     "data": {
      "image/png": "[encoded data removed]",
      "text/plain": [
       "<Figure size 640x480 with 2 Axes>"
      ]
     },
     "metadata": {},
     "output_type": "display_data"
    },
    {
     "name": "stderr",
     "output_type": "stream",
     "text": [
      "WARNING:absl:You are saving your model as an HDF5 file via `model.save()` or `keras.saving.save_model(model)`. This file format is considered legacy. We recommend using instead the native Keras format, e.g. `model.save('my_model.keras')` or `keras.saving.save_model(model, 'my_model.keras')`. \n"
     ]
    }
   ],
   "source": [
    "import matplotlib.pyplot as plt\n",
    "import tensorflow as tf\n",
    "import numpy as np\n",
    "import pandas as pd\n",
    "from keras.src.utils import pad_sequences\n",
    "from sklearn import model_selection,metrics\n",
    "import matplotlib.pyplot as plt\n",
    "\n",
    "print(\"Pravi program\")\n",
    "data=pd.read_csv(\"C:/Users/Djole/Desktop/IMDB Dataset.csv\")\n",
    "x=data.iloc[:,0]\n",
    "y=data.iloc[:,1]\n",
    "x_train,x_test,y_train,y_test=model_selection.train_test_split(x,y,stratify=y,test_size=0.3,random_state=2)\n",
    "y_train = y_train.map({\"positive\": 1, \"negative\": 0})\n",
    "y_test = y_test.map({\"positive\": 1, \"negative\": 0})\n",
    "tokenizer=tf.keras.preprocessing.text.Tokenizer(lower=True,oov_token=\"<UNK>\")\n",
    "tokenizer.fit_on_texts(x_train.values)\n",
    "x_train_tokenizovano=tokenizer.texts_to_sequences(x_train)\n",
    "x_test_tokenizovano=tokenizer.texts_to_sequences(x_test)\n",
    "x_train_pad=tf.keras.preprocessing.sequence.pad_sequences(x_train_tokenizovano,maxlen=500,padding='post',truncating='post')\n",
    "x_test_pad=tf.keras.preprocessing.sequence.pad_sequences(x_test_tokenizovano,maxlen=500,padding='post',truncating='post')\n",
    "\n",
    "\n",
    "vokabular=tokenizer.word_index\n",
    "vokabular_size=len(tokenizer.word_index)\n",
    "\n",
    "embedding_dim_glove=100 \n",
    "glove={}\n",
    "with open(\"C:/Users/Djole/Desktop/glove.6B.100d.txt\",encoding=\"utf-8\") as f:\n",
    "    for linija in f:\n",
    "        red=linija.split()\n",
    "        rec= red[0]\n",
    "        niz=np.asarray(red[1:],dtype=\"float32\")\n",
    "        glove[rec]=niz\n",
    "\n",
    "embedding_recnik_moj=np.zeros((vokabular_size+2,embedding_dim_glove))\n",
    "\n",
    "embedding_recnik_moj[0]=np.zeros(100) #\n",
    "embedding_recnik_moj[1]=np.random.uniform(-0.5,0.5,100)\n",
    "\n",
    "for rec,i in vokabular.items():\n",
    "    vektor_iz_glove_za_odredjenu_rec=glove.get(rec)\n",
    "    if vektor_iz_glove_za_odredjenu_rec is not None:\n",
    "        embedding_recnik_moj[i]=vektor_iz_glove_za_odredjenu_rec  \n",
    "    else:\n",
    "        embedding_recnik_moj[i] = embedding_recnik_moj[1]\n",
    "\n",
    "model=tf.keras.Sequential([\n",
    "    tf.keras.layers.Embedding(\n",
    "        input_dim=vokabular_size+2,\n",
    "        output_dim=100, \n",
    "        input_length=len(x_train_pad[0]),\n",
    "        trainable=False,\n",
    "        weights=[embedding_recnik_moj]\n",
    "    ),\n",
    "    tf.keras.layers.LSTM(units=128),\n",
    "    tf.keras.layers.Dropout(0.4),\n",
    "    tf.keras.layers.Dense(1,activation='sigmoid'),\n",
    "])\n",
    "print(model.summary())\n",
    "model.compile(tf.keras.optimizers.Adam(learning_rate=0.00001),loss=tf.keras.losses.BinaryCrossentropy(),metrics=['accuracy'])\n",
    "\n",
    "br_epoha=150\n",
    "history=model.fit(x_train_pad,y_train,epochs=br_epoha,verbose=2,batch_size=32,validation_split=0.2)\n",
    "\n",
    "plt.subplot(121)\n",
    "plt.plot(range(0,br_epoha),history.history['accuracy'],label=\"acc\",color=\"green\")\n",
    "plt.plot(range(0,br_epoha),history.history['val_accuracy'],label=\"val_acc\",color=\"red\")\n",
    "\n",
    "plt.subplot(122)\n",
    "plt.plot(range(0,br_epoha),history.history['loss'],label=\"loss\",color=\"green\")\n",
    "plt.plot(range(0,br_epoha),history.history['val_loss'],label=\"val_loss\",color=\"red\")\n",
    "plt.show()\n",
    "model.save(\"C:/Users/Djole/Desktop/LSTM_MODEL.h5\")\n"
   ]
  },
  {
   "cell_type": "code",
   "execution_count": 5,
   "id": "fa0e7452-0ab8-4b1b-a46c-1eef4a85aa93",
   "metadata": {},
   "outputs": [
    {
     "name": "stdout",
     "output_type": "stream",
     "text": [
      "\u001b[1m469/469\u001b[0m \u001b[32m━━━━━━━━━━━━━━━━━━━━\u001b[0m\u001b[37m\u001b[0m \u001b[1m24s\u001b[0m 51ms/step\n",
      "<class 'numpy.ndarray'>\n"
     ]
    }
   ],
   "source": [
    "y_pred=model.predict(x_test_pad)\n"
   ]
  },
  {
   "cell_type": "code",
   "execution_count": 7,
   "id": "c66c671a-0c7a-4ad3-a5f5-06be33d85121",
   "metadata": {},
   "outputs": [],
   "source": [
    "y_pred=np.where(y_pred>0.5,1,0)"
   ]
  },
  {
   "cell_type": "code",
   "execution_count": 8,
   "id": "ed82711e-d77f-4331-85ef-aa119558f0a8",
   "metadata": {},
   "outputs": [
    {
     "data": {
      "text/plain": [
       "array([[1],\n",
       "       [0],\n",
       "       [0],\n",
       "       [1]])"
      ]
     },
     "execution_count": 8,
     "metadata": {},
     "output_type": "execute_result"
    }
   ],
   "source": [
    "y_pred[0:4]"
   ]
  },
  {
   "cell_type": "code",
   "execution_count": 10,
   "id": "f928ee5b-e89f-4a8e-b206-6f6a135d84d3",
   "metadata": {},
   "outputs": [
    {
     "data": {
      "text/plain": [
       "0.8675242010343456"
      ]
     },
     "execution_count": 10,
     "metadata": {},
     "output_type": "execute_result"
    }
   ],
   "source": [
    "rez=metrics.f1_score(y_test,y_pred)\n",
    "rez"
   ]
  },
  {
   "cell_type": "code",
   "execution_count": 28,
   "id": "a377c9a4-b54f-4236-a7be-bf735c2dd364",
   "metadata": {},
   "outputs": [
    {
     "data": {
      "image/png": "[encoded data removed]",
      "text/plain": [
       "<Figure size 640x480 with 2 Axes>"
      ]
     },
     "metadata": {},
     "output_type": "display_data"
    }
   ],
   "source": [
    "import seaborn\n",
    "mc=metrics.confusion_matrix(y_test,y_pred)\n",
    "mc_procenat = mc.astype('float') / mc.sum() * 100\n",
    "\n",
    "seaborn.heatmap(mc_procenat,cmap=\"Blues\",xticklabels=['Negativno','Pozitivno'],yticklabels=[\"Negativno\", \"Pozitivno\"])\n",
    "for i in range(2):\n",
    "    for j in range(2):\n",
    "        plt.text(j + 0.5, i + 0.5, f\"{mc[i, j]}\\n({mc_procenat[i, j]:.2f}%)\",\n",
    "                 ha='center', va='center', color=\"black\", fontsize=14)\n",
    "\n",
    "plt.title(\"Matrica konfuzije\")\n",
    "plt.show()"
   ]
  }
 ],
 "metadata": {
  "kernelspec": {
   "display_name": "Python 3 (ipykernel)",
   "language": "python",
   "name": "python3"
  },
  "language_info": {
   "codemirror_mode": {
    "name": "ipython",
    "version": 3
   },
   "file_extension": ".py",
   "mimetype": "text/x-python",
   "name": "python",
   "nbconvert_exporter": "python",
   "pygments_lexer": "ipython3",
   "version": "3.12.4"
  }
 },
 "nbformat": 4,
 "nbformat_minor": 5
}
